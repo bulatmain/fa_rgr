{
 "cells": [
  {
   "cell_type": "markdown",
   "metadata": {},
   "source": [
    "### РГР №1, Ахметшин Б.Р. 303Б, Вариант №2:"
   ]
  },
  {
   "cell_type": "markdown",
   "metadata": {},
   "source": [
    "### Дано\n",
    "\n",
    "$$\n",
    "k = 3, \\quad L = 15\n",
    "$$\n",
    "\n",
    "**Функция** $ T(x) $:\n",
    "\n",
    "$$T(x): \\mathbb{C}[0; 1] \\rightarrow \\mathbb{C}[0; 1]$$\n",
    "\n",
    "$$\n",
    "T(x) =\n",
    "\\begin{cases}\n",
    "    \\frac{1}{4}x(3t) - \\frac{15}{2},    & 0 \\leq t \\leq \\frac{1}{3} \\\\\n",
    "    f(t),                               & \\frac{1}{3} < t \\leq \\frac{2}{3} \\\\\n",
    "    \\frac{1}{4}x(3t - 2),               & \\frac{2}{3} < t \\leq 1\n",
    "\\end{cases},\n",
    "\\\\\n",
    "\\exists a, b \\in \\mathbb{R}: f(t) = at + b.\n",
    "$$"
   ]
  },
  {
   "cell_type": "markdown",
   "metadata": {},
   "source": [
    "**Найдем** $f(t)$:\n",
    "\n",
    "$$f(t) \\in \\mathbb{C}[0; 1] \\Rightarrow \\\\\n",
    "\\begin{cases}\n",
    "        f(\\frac{1}{3}) = \\frac{1}{4}x(1) - \\frac{15}{2}, \\\\\n",
    "        f(\\frac{2}{3}) = \\frac{1}{4}x(0)\n",
    "\\end{cases} \\Rightarrow \n",
    "\\begin{cases}\n",
    "        \\frac{1}{3}a + b = \\frac{1}{4}x(1) - \\frac{15}{2}, \\\\\n",
    "        \\frac{2}{3}a + b = \\frac{1}{4}x(0)\n",
    "\\end{cases} \\Rightarrow \\\\\n",
    "f(t) = \\frac{3}{4}(x(0) - x(1) + 90)t + \\frac{1}{4}(x(1) - x(0) - 60)\n",
    "$$"
   ]
  },
  {
   "cell_type": "markdown",
   "metadata": {},
   "source": [
    "**Разность** $ T(x) - T(y) $:\n",
    "\n",
    "$$\n",
    "||T(x) - T(y)|| = \\\\\n",
    "\\max(\n",
    "\\max_{t \\in [0; \\frac{1}{3}]}(\\frac{1}{4}[x(3t) - y(3t)]), \n",
    "\\max_{t \\in (\\frac{1}{3}; \\frac{2}{3}]}(0), \n",
    "\\max_{t \\in (\\frac{2}{3}; 1]}(\\frac{1}{4}[x(3t - 2) - y(3t - 2)]) \n",
    ") \\\\ = \n",
    "\\max(\\max_{s \\in [0; 1]}(\\frac{1}{4}[x(s) - y(s)]), 0, \\max_{s \\in [0; 1]}(\\frac{1}{4}[x(s) - y(s)])) \\\\ =\n",
    "\\max_{s \\in [0; 1]}(\\frac{1}{4}[x(s) - y(s)]) = \\frac{1}{4}||x - y||\n",
    "$$\n",
    "\n"
   ]
  },
  {
   "cell_type": "markdown",
   "metadata": {},
   "source": [
    "Следовательно, $T(x) -$ сжимающее отображение с $\\alpha = \\frac{1}{4}$."
   ]
  },
  {
   "cell_type": "markdown",
   "metadata": {},
   "source": [
    "Найдем необходимое число итераций\n",
    "\n",
    "$$n \\geq \\log_{\\alpha}[\\varepsilon (1 - \\alpha)] - 1$$"
   ]
  },
  {
   "cell_type": "code",
   "execution_count": 43,
   "metadata": {},
   "outputs": [
    {
     "name": "stdout",
     "output_type": "stream",
     "text": [
      "n(0.1)  \t= 0.8684827970831028\n",
      "n(0.01)  \t= 2.5294468445267846\n",
      "n(0.001)  \t= 4.1904108919704655\n"
     ]
    }
   ],
   "source": [
    "from math import log\n",
    "\n",
    "def n(eps, alpha):\n",
    "    return log(eps * (1 - alpha), alpha) - 1\n",
    "\n",
    "alpha = 1/4\n",
    "\n",
    "for eps in [0.1, 0.01, 0.001]:\n",
    "    print('n(', eps, ')  \\t= ', n(eps, alpha), sep = '')"
   ]
  },
  {
   "cell_type": "markdown",
   "metadata": {},
   "source": [
    "$$\\Rightarrow \n",
    "\\begin{cases}\n",
    "    n \\ge 1, \\varepsilon = 10^{-1},   \\\\\n",
    "    n \\ge 3, \\varepsilon = 10^{-2}, \\\\\n",
    "    n \\ge 5, \\varepsilon = 10^{-3}\n",
    "\\end{cases}\n",
    "$$"
   ]
  },
  {
   "cell_type": "markdown",
   "metadata": {},
   "source": [
    "### Программа, находящая неподвижную точку методом итераций и отображающая ее график."
   ]
  },
  {
   "cell_type": "code",
   "execution_count": 39,
   "metadata": {},
   "outputs": [],
   "source": [
    "import tkinter as tk\n",
    "from functools import cache\n",
    "from math import exp\n",
    "\n",
    "def sigmoid(x):\n",
    "    return 1 / (1 + exp(-x))\n",
    "\n",
    "def f(t, a, b):\n",
    "    return a * t + b\n",
    "\n",
    "@cache\n",
    "def x(t, iter) -> float:\n",
    "    if iter == 0:\n",
    "        return 0  # Начальное приближение\n",
    "    \n",
    "    if 0 <= t <= 1/3:\n",
    "        return 1/4 * x(3 * t, iter - 1) - 15/2\n",
    "    elif 1/3 < t < 2/3:\n",
    "        a = 3/4 * (x(0, iter - 1) - x(1, iter - 1) + 90)\n",
    "        b = 1/4 * (2*x(1, iter - 1) - x(0, iter - 1) - 60)\n",
    "        return f(t, a, b)\n",
    "    elif 2/3 <= t <= 1:\n",
    "        return 1/4 * x(3 * t - 2, iter - 1)\n",
    "    \n",
    "    return 0\n",
    "\n",
    "def resize(event):\n",
    "    frame_main['width'] = event.width\n",
    "    frame_main['height'] = event.height\n",
    "    frame_top['width'] = event.width\n",
    "    frame_top['height'] = event.height - 100\n",
    "    canv['width'] = int(min(frame_top['width'], frame_top['height'])) + 13\n",
    "    canv['height'] = int(min(frame_top['width'], frame_top['height'])) + 13\n",
    "    build(event)\n",
    "\n",
    "def build(_event):\n",
    "    global size\n",
    "    dots = []\n",
    "    it = iters.get()\n",
    "    canv.delete('all')\n",
    "    size = min(frame_top['width'], frame_top['height'])\n",
    "    c = (200, 200)\n",
    "    canv.create_line(size//2 - c[0], size, size//2 - c[0], 0, width=2, arrow=tk.LAST)\n",
    "    canv.create_line(0, size//2 + c[1], size, size//2 + c[1], width=2, arrow=tk.LAST)\n",
    "    step = 1e-4\n",
    "    t = 0\n",
    "    for _ in range(int(1e4)):\n",
    "        t += step\n",
    "        y = x(t, it)\n",
    "        if y is None:\n",
    "            continue\n",
    "        xcord = int(t * 500) + size//2 - c[0]\n",
    "        ycord = int(-y * 20) + size//2 + c[1]\n",
    "        dots.append((xcord, ycord))\n",
    "    canv.create_line(*dots, width=3)\n",
    "\n",
    "if __name__ == \"__main__\":\n",
    "    root = tk.Tk()\n",
    "    root.title(\"Contraction Mapping Graph\")\n",
    "    root.minsize(500, 600)\n",
    "    root.resizable(width=True, height=True)\n",
    "    size = 5000\n",
    "    frame_main = tk.Frame(root)\n",
    "    frame_main.pack(fill=tk.BOTH, expand=tk.YES)\n",
    "    frame_top = tk.Frame(frame_main)\n",
    "    frame_top.pack(fill=tk.BOTH, expand=tk.YES, side=tk.TOP)\n",
    "    frame_input = tk.Frame(frame_main, width=size//2, height=100)\n",
    "    frame_input.pack(fill=tk.Y, expand=tk.YES, side=tk.LEFT)\n",
    "    frame_methods = tk.Frame(frame_main, width=size//2, height=100)\n",
    "    frame_methods.pack(fill=tk.Y, expand=tk.YES, side=tk.RIGHT)\n",
    "    canv = tk.Canvas(frame_top, width=size, height=size)\n",
    "    canv.pack(fill=tk.Y, expand=tk.YES)\n",
    "    iters_label = tk.Label(frame_methods, width=10, text='Iterations:')\n",
    "    iters_label.grid(row=1, column=2)\n",
    "    iters = tk.Scale(frame_methods, from_=1, to=10, orient=tk.HORIZONTAL, length=200, command=build)\n",
    "    iters.grid(row=2, column=2)\n",
    "    button_build = tk.Button(frame_input, width=20, height=2, text='Build!')\n",
    "    button_build.grid(row=1, column=0)\n",
    "    button_build.bind(\"<ButtonPress-1>\", build)\n",
    "    frame_main.bind(\"<Configure>\", resize)\n",
    "    root.mainloop()\n"
   ]
  }
 ],
 "metadata": {
  "kernelspec": {
   "display_name": "Python 3",
   "language": "python",
   "name": "python3"
  },
  "language_info": {
   "codemirror_mode": {
    "name": "ipython",
    "version": 3
   },
   "file_extension": ".py",
   "mimetype": "text/x-python",
   "name": "python",
   "nbconvert_exporter": "python",
   "pygments_lexer": "ipython3",
   "version": "3.10.12"
  }
 },
 "nbformat": 4,
 "nbformat_minor": 2
}
